{
 "cells": [
  {
   "cell_type": "code",
   "execution_count": 1,
   "metadata": {
    "collapsed": true
   },
   "outputs": [],
   "source": [
    "import numpy as np\n",
    "import pandas as pd\n",
    "from collections import defaultdict"
   ]
  },
  {
   "cell_type": "code",
   "execution_count": 2,
   "metadata": {
    "collapsed": false
   },
   "outputs": [],
   "source": [
    "policy_df = pd.read_csv(\"policy.csv\")\n",
    "data_df = pd.read_csv(\"data.csv\")"
   ]
  },
  {
   "cell_type": "code",
   "execution_count": 3,
   "metadata": {
    "collapsed": true
   },
   "outputs": [],
   "source": [
    "def cardprice(df):\n",
    "    pricepoints = dict()\n",
    "    cardnames = df.columns.values.tolist()\n",
    "    for i in range(1,len(df.columns.values)):\n",
    "        pricepoints[int(df[cardnames[i]][4])] = cardnames[i]\n",
    "    return pricepoints"
   ]
  },
  {
   "cell_type": "code",
   "execution_count": 4,
   "metadata": {
    "collapsed": false
   },
   "outputs": [],
   "source": [
    "cardprices = cardprice(policy_df)"
   ]
  },
  {
   "cell_type": "code",
   "execution_count": 5,
   "metadata": {
    "collapsed": false
   },
   "outputs": [],
   "source": [
    "def recommend_card(cdf):\n",
    "    cards = defaultdict(list)\n",
    "    for i in range(len(cdf)):\n",
    "        if ((cdf[\"Annual salary\"][i] / 12 >= 15000) & (cdf[\"Age\"][i] >= 18) & (cdf[\"Age\"][i] <= 55) & (cdf[\"Occupation\"][i] == \"Self-employed\") | (cdf[\"Occupation\"][i] == \"Salaried\") & (cdf[\"Company category\"][i] == \"C\") | (cdf[\"Company category\"][i] == \"D\")):\n",
    "            cards[i].append(\"Card 4\")\n",
    "        if ((cdf[\"Age\"][i] >= 19) & (cdf[\"Age\"][i] <= 60) & (cdf[\"Occupation\"][i] == \"Self-employed\") & (cdf[\"Annual salary\"][i] / 12 >= 100000)  & (cdf[\"Company category\"][i] == \"A\")):\n",
    "            cards[i].append(\"Card 5\")\n",
    "        if ((cdf[\"Age\"][i] >= 21) & (cdf[\"Age\"][i] <= 50) & (cdf[\"Occupation\"][i] == \"employed\") & (cdf[\"Annual salary\"][i] / 12 >= 80000)  & (cdf[\"Company category\"][i] == \"A\") | (cdf[\"Company category\"][i] == \"B\")):\n",
    "            cards[i].append(\"Card 3\")\n",
    "        if ((cdf[\"Age\"][i] >= 20) & (cdf[\"Age\"][i] <= 60) & (cdf[\"Occupation\"][i] == \"Salaried\") | (cdf[\"Occupation\"][i] == \"Self-employed\") & (cdf[\"Annual salary\"][i] / 12 >= 60000) & (cdf[\"Company category\"][i] == \"A\") | (cdf[\"Company category\"][i] == \"B\") | (cdf[\"Company category\"][i] == \"C\")):\n",
    "            cards[i].append(\"Card 2\")\n",
    "        if ((cdf[\"Age\"][i] >= 18) & (cdf[\"Age\"][i] <= 55) & (cdf[\"Occupation\"][i] == \"Self-employed\") & (cdf[\"Annual salary\"][i] / 12 >= 45000) & (cdf[\"Company category\"][i] == \"A\")):\n",
    "            cards[i].append(\"Card 1\")\n",
    "    \n",
    "    result1 = dict()\n",
    "    result2 = dict()\n",
    "    for customerid, card in cards.iteritems():\n",
    "        result1[customerid + 1] = card\n",
    "    submission1 = pd.DataFrame({\n",
    "            \"Customer name\": list(result1.keys()),\n",
    "            \"Recommended Card\": list(result1.values())\n",
    "        })\n",
    "    submission1.to_csv('submission1.csv', index=False)\n",
    "    \n",
    "    finalizedcard = finalize_card(cards)\n",
    "    for customerid, card in finalizedcard.iteritems():\n",
    "        result2[customerid + 1] = card\n",
    "    submission2 = pd.DataFrame({\n",
    "            \"Customer name\": list(result2.keys()),\n",
    "            \"Recommended Card\": list(result2.values())\n",
    "        })\n",
    "    submission2.to_csv('submission2.csv', index=False)"
   ]
  },
  {
   "cell_type": "code",
   "execution_count": 6,
   "metadata": {
    "collapsed": false
   },
   "outputs": [],
   "source": [
    "def finalize_card(cards):\n",
    "    finalcard = defaultdict(list)\n",
    "    fcard = dict()\n",
    "    for key,val in cards.items():\n",
    "        if len(val) > 1:\n",
    "            for card in val:\n",
    "                finalcard[key].append(policy_df[card][4])\n",
    "                \n",
    "    fcard = {customer_id: int(max(cards, key=int)) for customer_id, cards in finalcard.iteritems()}\n",
    "    \n",
    "    for customerid, price in fcard.iteritems():\n",
    "        fcard[customerid] = cardprices[price]\n",
    "    return fcard\n",
    "    \n",
    "    \n",
    "            "
   ]
  },
  {
   "cell_type": "code",
   "execution_count": null,
   "metadata": {
    "collapsed": false
   },
   "outputs": [],
   "source": [
    "recommend_card(data_df)\n"
   ]
  }
 ],
 "metadata": {
  "kernelspec": {
   "display_name": "Python [Root]",
   "language": "python",
   "name": "Python [Root]"
  },
  "language_info": {
   "codemirror_mode": {
    "name": "ipython",
    "version": 2
   },
   "file_extension": ".py",
   "mimetype": "text/x-python",
   "name": "python",
   "nbconvert_exporter": "python",
   "pygments_lexer": "ipython2",
   "version": "2.7.11"
  }
 },
 "nbformat": 4,
 "nbformat_minor": 0
}
